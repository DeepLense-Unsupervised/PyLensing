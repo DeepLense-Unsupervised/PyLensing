{
 "cells": [
  {
   "cell_type": "markdown",
   "metadata": {},
   "source": [
    "# PyLensing\n",
    "A tool for generating lensing images based on PyAutoLens simulations\n",
    "\n",
    "Currently supported lensing configurations:\n",
    "\n",
    "* Galaxy-Galaxy Strong Lensing\n",
    "\n",
    "* Galaxy-Galaxy Strong Lensing with vortex substructure\n",
    "\n",
    "* Galaxy-Galaxy Strong Lensing with Spherical substructure\n",
    "\n",
    "Currently supported output file types:\n",
    "\n",
    "* Images (.png)\n",
    "\n",
    "* Numpy arrays\n",
    "\n",
    "* Matlab files (.MAT)\n",
    "\n",
    "* HDF files (hdf5)\n",
    "\n",
    "Currently supported input file types:\n",
    "\n",
    "* CSV\n",
    "\n",
    "* JSON\n",
    "\n",
    "### Example 1: Galaxy-Galaxy Strong Lensing\n"
   ]
  },
  {
   "cell_type": "code",
   "execution_count": null,
   "metadata": {},
   "outputs": [],
   "source": [
    "from lensing import gen_params_base as genpb\n",
    "from lensing import get_params as getp\n",
    "from lensing import gen_data_base as gendb\n",
    "\n",
    "# Generate a default set of parameters using the gen_params module\n",
    "generator = genpb.gen_params(save_params=False)\n",
    "base_parameters = generator.run()\n",
    "\n",
    "# Generate all the permutations of the parameters obtained from gen_params module and return a list of set number of samples\n",
    "params = getp.get_params(base_parameters, number_of_samples=5)\n",
    "print('Dimensions of parameter space: {}'.format(params.shape))\n",
    "\n",
    "# Generate the lensing images using the gen_data module and the parameters from get_params module\n",
    "gendb.gen_data(params,output_type='Image', grid_shape=[150,150], pixel_scales=0.05)"
   ]
  },
  {
   "cell_type": "markdown",
   "metadata": {},
   "source": [
    "Alternatively we can also import the parameters from a CSV or a JSON file\n",
    "\n",
    ">**[WARNING]**\n",
    ">Use the files provided in PyLensing/default_params as templates and only change the values corresponding to 'distribution', 'population' and, 'priors'"
   ]
  },
  {
   "cell_type": "code",
   "execution_count": 15,
   "metadata": {},
   "outputs": [
    {
     "name": "stdout",
     "output_type": "stream",
     "text": [
      "                                    profile         parameter distribution  \\\n",
      "0     Lensing Galaxy - Sersic Light Profile             x_pos        fixed   \n",
      "1     Lensing Galaxy - Sersic Light Profile             y_pos        fixed   \n",
      "2     Lensing Galaxy - Sersic Light Profile          redshift        fixed   \n",
      "3     Lensing Galaxy - Sersic Light Profile        axis_ratio      uniform   \n",
      "4     Lensing Galaxy - Sersic Light Profile       orientation      uniform   \n",
      "5     Lensing Galaxy - Sersic Light Profile         intensity        fixed   \n",
      "6     Lensing Galaxy - Sersic Light Profile      sersic_index        fixed   \n",
      "7     Lensing Galaxy - Sersic Light Profile        eff_radius        fixed   \n",
      "8   Dark Matter Halo – Spherical Isothermal             x_pos        fixed   \n",
      "9   Dark Matter Halo – Spherical Isothermal             y_pos        fixed   \n",
      "10  Dark Matter Halo – Spherical Isothermal   einstein_radius        fixed   \n",
      "11                           External Shear         magnitude      uniform   \n",
      "12                           External Shear             angle      uniform   \n",
      "13           Lensed Galaxy - Sersic Profile   radial_distance      uniform   \n",
      "14           Lensed Galaxy - Sersic Profile  angular_position      uniform   \n",
      "15           Lensed Galaxy - Sersic Profile          redshift        fixed   \n",
      "16           Lensed Galaxy - Sersic Profile        axis_ratio      uniform   \n",
      "17           Lensed Galaxy - Sersic Profile       orientation      uniform   \n",
      "18           Lensed Galaxy - Sersic Profile         intensity      uniform   \n",
      "19           Lensed Galaxy - Sersic Profile      sersic_index        fixed   \n",
      "20           Lensed Galaxy - Sersic Profile        eff_radius        fixed   \n",
      "\n",
      "    population              priors  \n",
      "0            1                 [0]  \n",
      "1            1                 [0]  \n",
      "2            1               [0.5]  \n",
      "3            5          [0.5, 1.0]  \n",
      "4            5  [0, 6.28318530718]  \n",
      "5            1               [1.2]  \n",
      "6            1               [2.5]  \n",
      "7            1               [0.5]  \n",
      "8            1                 [0]  \n",
      "9            1                 [0]  \n",
      "10           1               [1.2]  \n",
      "11           5          [0.0, 0.3]  \n",
      "12           5  [0, 6.28318530718]  \n",
      "13           5          [0.0, 1.2]  \n",
      "14           5  [0, 6.28318530718]  \n",
      "15           1               [1.0]  \n",
      "16           5          [0.7, 1.0]  \n",
      "17           5  [0, 6.28318530718]  \n",
      "18           5          [0.7, 0.9]  \n",
      "19           1               [1.5]  \n",
      "20           1               [0.5]  \n"
     ]
    }
   ],
   "source": [
    "import pandas as pd\n",
    "\n",
    "# display the parameters\n",
    "parameters = pd.read_csv('./default_params/params_base.csv')\n",
    "print(parameters)"
   ]
  },
  {
   "cell_type": "code",
   "execution_count": null,
   "metadata": {},
   "outputs": [],
   "source": [
    "# Generate all the permutations of the parameters imported from a CSV file\n",
    "params = getp.load_from_csv(path='./default_params/params_base.csv', number_of_samples=5)\n",
    "                            \n",
    "# Generate the lensing images using the gen_data module and the parameters from get_params module\n",
    "gendb.gen_data(params,output_type='Image', grid_shape=[150,150], pixel_scales=0.05)  "
   ]
  },
  {
   "cell_type": "code",
   "execution_count": null,
   "metadata": {},
   "outputs": [],
   "source": [
    "# or import the parameters form a json file\n",
    "\n",
    "# Generate all the permutations of the parameters imported from a json file\n",
    "params = getp.load_from_json(path='./default_params/params_base.json', number_of_samples=5)\n",
    "                            \n",
    "# Generate the lensing images using the gen_data module and the parameters from get_params module\n",
    "gendb.gen_data(params,output_type='Image', grid_shape=[150,150], pixel_scales=0.05)"
   ]
  },
  {
   "cell_type": "markdown",
   "metadata": {},
   "source": [
    "### Example 2: Galaxy-Galaxy Strong Lensing with vortex substructure"
   ]
  },
  {
   "cell_type": "code",
   "execution_count": null,
   "metadata": {},
   "outputs": [],
   "source": [
    "from lensing import gen_params_vortex as genpv\n",
    "from lensing import get_params as getp\n",
    "from lensing import gen_data_vortex as gendv\n",
    "\n",
    "# Generate a default set of parameters using the gen_params module\n",
    "generator = genpv.gen_params(save_params=False)\n",
    "base_parameters = generator.run()\n",
    "\n",
    "# Generate all the permutations of the parameters obtained from gen_params module and return a list of set number of samples\n",
    "params = getp.get_params(base_parameters, number_of_samples=5)\n",
    "print('Dimensions of parameter space: {}'.format(params.shape))\n",
    "\n",
    "# Generate the lensing images using the gen_data module and the parameters from get_params module\n",
    "gendv.gen_data(params,output_type='Image', grid_shape=[150,150], pixel_scales=0.05)"
   ]
  },
  {
   "cell_type": "markdown",
   "metadata": {},
   "source": [
    "Alternatively we can also import the parameters from a CSV or a JSON file\n",
    "\n",
    ">**[WARNING]**\n",
    ">Use the files provided in PyLensing/default_params as templates and only change the values corresponding to 'distribution', 'population' and, 'priors'"
   ]
  },
  {
   "cell_type": "code",
   "execution_count": 16,
   "metadata": {},
   "outputs": [
    {
     "name": "stdout",
     "output_type": "stream",
     "text": [
      "                                    profile         parameter distribution  \\\n",
      "0     Lensing Galaxy - Sersic Light Profile             x_pos        fixed   \n",
      "1     Lensing Galaxy - Sersic Light Profile             y_pos        fixed   \n",
      "2     Lensing Galaxy - Sersic Light Profile          redshift        fixed   \n",
      "3     Lensing Galaxy - Sersic Light Profile        axis_ratio      uniform   \n",
      "4     Lensing Galaxy - Sersic Light Profile       orientation      uniform   \n",
      "5     Lensing Galaxy - Sersic Light Profile         intensity        fixed   \n",
      "6     Lensing Galaxy - Sersic Light Profile      sersic_index        fixed   \n",
      "7     Lensing Galaxy - Sersic Light Profile        eff_radius        fixed   \n",
      "8   Dark Matter Halo – Spherical Isothermal             x_pos        fixed   \n",
      "9   Dark Matter Halo – Spherical Isothermal             y_pos        fixed   \n",
      "10  Dark Matter Halo – Spherical Isothermal   einstein_radius        fixed   \n",
      "11                           External Shear         magnitude      uniform   \n",
      "12                           External Shear             angle      uniform   \n",
      "13           Lensed Galaxy - Sersic Profile   radial_distance      uniform   \n",
      "14           Lensed Galaxy - Sersic Profile  angular_position      uniform   \n",
      "15           Lensed Galaxy - Sersic Profile          redshift        fixed   \n",
      "16           Lensed Galaxy - Sersic Profile        axis_ratio      uniform   \n",
      "17           Lensed Galaxy - Sersic Profile       orientation      uniform   \n",
      "18           Lensed Galaxy - Sersic Profile         intensity      uniform   \n",
      "19           Lensed Galaxy - Sersic Profile      sersic_index        fixed   \n",
      "20           Lensed Galaxy - Sersic Profile        eff_radius        fixed   \n",
      "21                                   Vortex             x_pos        fixed   \n",
      "22                                   Vortex             y_pos        fixed   \n",
      "23                                   Vortex            length        fixed   \n",
      "24                                   Vortex       orientation      uniform   \n",
      "25                                   Vortex        total_mass        fixed   \n",
      "\n",
      "    population              priors  \n",
      "0            1                 [0]  \n",
      "1            1                 [0]  \n",
      "2            1               [0.5]  \n",
      "3            5          [0.5, 1.0]  \n",
      "4            5  [0, 6.28318530718]  \n",
      "5            1               [1.2]  \n",
      "6            1               [2.5]  \n",
      "7            1               [0.5]  \n",
      "8            1                 [0]  \n",
      "9            1                 [0]  \n",
      "10           1               [1.2]  \n",
      "11           5          [0.0, 0.3]  \n",
      "12           5  [0, 6.28318530718]  \n",
      "13           5          [0.0, 1.2]  \n",
      "14           5  [0, 6.28318530718]  \n",
      "15           1               [1.0]  \n",
      "16           5          [0.7, 1.0]  \n",
      "17           5  [0, 6.28318530718]  \n",
      "18           5          [0.7, 0.9]  \n",
      "19           1               [1.5]  \n",
      "20           1               [0.5]  \n",
      "21           1                 [0]  \n",
      "22           1                 [0]  \n",
      "23           1                 [1]  \n",
      "24           5  [0, 6.28318530718]  \n",
      "25           1              [0.01]  \n"
     ]
    }
   ],
   "source": [
    "import pandas as pd\n",
    "\n",
    "# display the parameters\n",
    "parameters = pd.read_csv('./default_params/params_vortex.csv')\n",
    "print(parameters)"
   ]
  },
  {
   "cell_type": "code",
   "execution_count": null,
   "metadata": {},
   "outputs": [],
   "source": [
    "# Generate all the permutations of the parameters imported from a CSV file\n",
    "params = getp.load_from_csv(path='./default_params/params_vortex.csv', number_of_samples=5)\n",
    "                            \n",
    "# Generate the lensing images using the gen_data module and the parameters from get_params module\n",
    "gendv.gen_data(params,output_type='Image', grid_shape=[150,150], pixel_scales=0.05)  "
   ]
  },
  {
   "cell_type": "code",
   "execution_count": null,
   "metadata": {},
   "outputs": [],
   "source": [
    "# or import the parameters form a json file\n",
    "\n",
    "# Generate all the permutations of the parameters imported from a json file\n",
    "params = getp.load_from_json(path='./default_params/params_vortex.json', number_of_samples=5)\n",
    "                            \n",
    "# Generate the lensing images using the gen_data module and the parameters from get_params module\n",
    "gendv.gen_data(params,output_type='Image', grid_shape=[150,150], pixel_scales=0.05)"
   ]
  },
  {
   "cell_type": "markdown",
   "metadata": {},
   "source": [
    "### Example 3: Galaxy-Galaxy Strong Lensing with Spherical substructure"
   ]
  },
  {
   "cell_type": "code",
   "execution_count": null,
   "metadata": {},
   "outputs": [],
   "source": [
    "from lensing import gen_params_spherical as genps\n",
    "from lensing import get_params as getp\n",
    "from lensing import gen_data_spherical as gends\n",
    "\n",
    "# Generate a default set of parameters using the gen_params module\n",
    "generator = genps.gen_params(save_params=False)\n",
    "base_parameters = generator.run()\n",
    "\n",
    "# Generate all the permutations of the parameters obtained from gen_params module and return a list of set number of samples\n",
    "params = getp.get_params(base_parameters, number_of_samples=5)\n",
    "print('Dimensions of parameter space: {}'.format(params.shape))\n",
    "\n",
    "# Generate the lensing images using the gen_data module and the parameters from get_params module\n",
    "gends.gen_data(params,output_type='Image', grid_shape=[150,150], pixel_scales=0.05)"
   ]
  },
  {
   "cell_type": "markdown",
   "metadata": {},
   "source": [
    "Alternatively we can also import the parameters from a CSV or a JSON file\n",
    "\n",
    ">**[WARNING]**\n",
    ">Use the files provided in PyLensing/default_params as templates and only change the values corresponding to 'distribution', 'population' and, 'priors'"
   ]
  },
  {
   "cell_type": "code",
   "execution_count": 17,
   "metadata": {},
   "outputs": [
    {
     "name": "stdout",
     "output_type": "stream",
     "text": [
      "                                    profile                parameter  \\\n",
      "0     Lensing Galaxy - Sersic Light Profile                    x_pos   \n",
      "1     Lensing Galaxy - Sersic Light Profile                    y_pos   \n",
      "2     Lensing Galaxy - Sersic Light Profile                 redshift   \n",
      "3     Lensing Galaxy - Sersic Light Profile               axis_ratio   \n",
      "4     Lensing Galaxy - Sersic Light Profile              orientation   \n",
      "5     Lensing Galaxy - Sersic Light Profile                intensity   \n",
      "6     Lensing Galaxy - Sersic Light Profile             sersic_index   \n",
      "7     Lensing Galaxy - Sersic Light Profile               eff_radius   \n",
      "8   Dark Matter Halo – Spherical Isothermal                    x_pos   \n",
      "9   Dark Matter Halo – Spherical Isothermal                    y_pos   \n",
      "10  Dark Matter Halo – Spherical Isothermal          einstein_radius   \n",
      "11                           External Shear                magnitude   \n",
      "12                           External Shear                    angle   \n",
      "13           Lensed Galaxy - Sersic Profile          radial_distance   \n",
      "14           Lensed Galaxy - Sersic Profile         angular_position   \n",
      "15           Lensed Galaxy - Sersic Profile                 redshift   \n",
      "16           Lensed Galaxy - Sersic Profile               axis_ratio   \n",
      "17           Lensed Galaxy - Sersic Profile              orientation   \n",
      "18           Lensed Galaxy - Sersic Profile                intensity   \n",
      "19           Lensed Galaxy - Sersic Profile             sersic_index   \n",
      "20           Lensed Galaxy - Sersic Profile               eff_radius   \n",
      "21                                Spherical  number_of_substructures   \n",
      "22                                Spherical               total_mass   \n",
      "23                                Spherical          radial_distance   \n",
      "24                                Spherical         angular_position   \n",
      "\n",
      "   distribution  population              priors  \n",
      "0         fixed           1                 [0]  \n",
      "1         fixed           1                 [0]  \n",
      "2         fixed           1               [0.5]  \n",
      "3       uniform           5          [0.5, 1.0]  \n",
      "4       uniform           5  [0, 6.28318530718]  \n",
      "5         fixed           1               [1.2]  \n",
      "6         fixed           1               [2.5]  \n",
      "7         fixed           1               [0.5]  \n",
      "8         fixed           1                 [0]  \n",
      "9         fixed           1                 [0]  \n",
      "10        fixed           1               [1.2]  \n",
      "11      uniform           5          [0.0, 0.3]  \n",
      "12      uniform           5  [0, 6.28318530718]  \n",
      "13      uniform           5          [0.0, 1.2]  \n",
      "14      uniform           5  [0, 6.28318530718]  \n",
      "15        fixed           1               [1.0]  \n",
      "16      uniform           5          [0.7, 1.0]  \n",
      "17      uniform           5  [0, 6.28318530718]  \n",
      "18      uniform           5          [0.7, 0.9]  \n",
      "19        fixed           1               [1.5]  \n",
      "20        fixed           1               [0.5]  \n",
      "21        fixed           1                [25]  \n",
      "22        fixed           1              [0.01]  \n",
      "23      uniform          25          [0.0, 1.0]  \n",
      "24      uniform          25  [0, 6.28318530718]  \n"
     ]
    }
   ],
   "source": [
    "import pandas as pd\n",
    "\n",
    "# display the parameters\n",
    "parameters = pd.read_csv('./default_params/params_spherical.csv')\n",
    "print(parameters)"
   ]
  },
  {
   "cell_type": "code",
   "execution_count": null,
   "metadata": {},
   "outputs": [],
   "source": [
    "# Generate all the permutations of the parameters imported from a CSV file\n",
    "params = getp.load_from_csv(path='./default_params/params_spherical.csv', number_of_samples=5)\n",
    "                            \n",
    "# Generate the lensing images using the gen_data module and the parameters from get_params module\n",
    "gends.gen_data(params,output_type='Image', grid_shape=[150,150], pixel_scales=0.05) "
   ]
  },
  {
   "cell_type": "code",
   "execution_count": null,
   "metadata": {},
   "outputs": [],
   "source": [
    "# or import the parameters form a json file\n",
    "\n",
    "# Generate all the permutations of the parameters imported from a json file\n",
    "params = getp.load_from_json(path='./default_params/params_spherical.json', number_of_samples=5)\n",
    "                            \n",
    "# Generate the lensing images using the gen_data module and the parameters from get_params module\n",
    "gends.gen_data(params,output_type='Image', grid_shape=[150,150], pixel_scales=0.05)"
   ]
  }
 ],
 "metadata": {
  "kernelspec": {
   "display_name": "Python 3",
   "language": "python",
   "name": "python3"
  },
  "language_info": {
   "codemirror_mode": {
    "name": "ipython",
    "version": 3
   },
   "file_extension": ".py",
   "mimetype": "text/x-python",
   "name": "python",
   "nbconvert_exporter": "python",
   "pygments_lexer": "ipython3",
   "version": "3.7.7"
  }
 },
 "nbformat": 4,
 "nbformat_minor": 4
}
